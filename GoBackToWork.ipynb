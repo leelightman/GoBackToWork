{
 "cells": [
  {
   "cell_type": "markdown",
   "metadata": {},
   "source": [
    "1. AI decision model which predict the density of the building based on drop-off location in trip record (2009-2019) https://www1.nyc.gov/site/tlc/about/tlc-trip-record-data.page\n",
    "2. A reservation chatbot\n",
    "User input the reservation time, duration and address\n",
    "<ul>\n",
    "    <li>If the reservation request is accepted, generate QR code</li>\n",
    "    <li>If not accept, reject</li>\n",
    "    </ul>\n",
    "1. How to pre-process data?\n",
    "2. How to build model? (density by each hour for specific building)\n",
    "3. How to give prediction?\n",
    "4. How to link model with chatbot?"
   ]
  },
  {
   "cell_type": "code",
   "execution_count": null,
   "metadata": {},
   "outputs": [],
   "source": []
  }
 ],
 "metadata": {
  "kernelspec": {
   "display_name": "conda_amazonei_tensorflow_p36",
   "language": "python",
   "name": "conda_amazonei_tensorflow_p36"
  },
  "language_info": {
   "codemirror_mode": {
    "name": "ipython",
    "version": 3
   },
   "file_extension": ".py",
   "mimetype": "text/x-python",
   "name": "python",
   "nbconvert_exporter": "python",
   "pygments_lexer": "ipython3",
   "version": "3.6.6"
  }
 },
 "nbformat": 4,
 "nbformat_minor": 4
}
